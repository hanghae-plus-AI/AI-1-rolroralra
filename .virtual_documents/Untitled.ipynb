import torch
import torchvision
import torchvision.transforms as transforms


# 디바이스 설정
if torch.cuda.is_available():
    device = torch.device("cuda")
    print("CUDA 장치 사용 가능")
elif torch.backends.mps.is_available():
    device = torch.device("mps")
    print("MPS 장치 사용 가능")
else:
    device = torch.device("cpu")
    print("MPS와 CUDA 모두 불가능, CPU 사용")

# 디바이스 출력
print(f"사용중인 디바이스: {device}")


transform = transforms.ToTensor()

trainset = torchvision.datasets.MNIST(
    root='./data',
    train=True,
    download=True,
    transform=transform
)



