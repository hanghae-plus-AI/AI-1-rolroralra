{
 "cells": [
  {
   "cell_type": "markdown",
   "metadata": {
    "id": "OPJenlrhihrh"
   },
   "source": [
    "# MNIST 실습\n",
    "\n",
    "이번에는 28x28 흑백 손글씨 이미지를 보고 0~9 사이의 숫자 중 어떤 숫자를 쓴 것인지 예측하는 문제를 실습합니다.\n",
    "이번 실습에서는 GPU를 활용할 것이기 때문에, 이전 챕터에서 Colab에서 GPU를 설정하는 방법을 따라해주시길 바랍니다.\n",
    "\n",
    "GPU를 설정했으면 library들을 import합니다."
   ]
  },
  {
   "cell_type": "code",
   "execution_count": 17,
   "metadata": {
    "id": "6lXVfXoDtoQh"
   },
   "outputs": [
    {
     "name": "stdout",
     "output_type": "stream",
     "text": [
      "MPS 장치 사용 가능\n",
      "사용중인 디바이스: mps\n"
     ]
    }
   ],
   "source": [
    "import torch\n",
    "import torchvision\n",
    "import torchvision.transforms as transforms\n",
    "\n",
    "# 디바이스 설정\n",
    "if torch.cuda.is_available():\n",
    "    device = torch.device(\"cuda\")\n",
    "    print(\"CUDA 장치 사용 가능\")\n",
    "elif torch.backends.mps.is_available():\n",
    "    device = torch.device(\"mps\")\n",
    "    print(\"MPS 장치 사용 가능\")\n",
    "else:\n",
    "    device = torch.device(\"cpu\")\n",
    "    print(\"MPS와 CUDA 모두 불가능, CPU 사용\")\n",
    "\n",
    "# 디바이스 출력\n",
    "print(f\"사용중인 디바이스: {device}\")"
   ]
  },
  {
   "cell_type": "markdown",
   "metadata": {
    "id": "pF-1zQvmiult"
   },
   "source": [
    "다음은 dataset을 준비합니다. 손글씨 dataset은 MNIST라는 유명한 dataset이 있습니다. 이 dataset은 `torchvision`에서 제공하고 있으며, 다음과 같이 다운로드 받을 수 있습니다."
   ]
  },
  {
   "cell_type": "code",
   "execution_count": 4,
   "metadata": {
    "colab": {
     "base_uri": "https://localhost:8080/"
    },
    "id": "KAYlqPaRt6ti",
    "outputId": "67e51d96-85b4-4129-efc8-7938006afdd4"
   },
   "outputs": [],
   "source": [
    "transform = transforms.ToTensor()\n",
    "\n",
    "trainset = torchvision.datasets.MNIST(\n",
    "    root='./data',\n",
    "    train=True,\n",
    "    download=True,\n",
    "    transform=transform\n",
    ")"
   ]
  },
  {
   "cell_type": "markdown",
   "metadata": {
    "id": "p-GqH7_ZjVMs"
   },
   "source": [
    "MNIST는 손글씨 사진과 어떤 숫자를 의미하는지에 대한 label의 pair들로 구성되어있습니다.\n",
    "이 때, 우리는 PyTorch model을 사용할 것이기 때문에 손글씨 사진들을 모두 tensor로 변환해야합니다.\n",
    "이러한 부가적인 변환들은 `torchvision.transforms`에서 제공하고 있으며, `torchvision.datasets.MNIST`에서 `transform` 인자로 받을 수 있습니다.\n",
    "우리는 단순히 사진을 tensor로 바꾸고 싶기 때문에 `transforms.ToTensor()` transformation을 넘겨줍니다.\n",
    "\n",
    "다음은 전체 data의 개수와 첫 번째 data를 출력한 결과입니다."
   ]
  },
  {
   "cell_type": "code",
   "execution_count": 6,
   "metadata": {
    "colab": {
     "base_uri": "https://localhost:8080/",
     "height": 481
    },
    "id": "Zsp3sHmojyhT",
    "outputId": "3511bb75-e677-4fb8-894b-69e22c80f4bc"
   },
   "outputs": [
    {
     "name": "stdout",
     "output_type": "stream",
     "text": [
      "60000\n",
      "torch.Size([1, 28, 28]) 5\n"
     ]
    },
    {
     "data": {
      "text/plain": [
       "<matplotlib.image.AxesImage at 0x17cd1a0c0>"
      ]
     },
     "execution_count": 6,
     "metadata": {},
     "output_type": "execute_result"
    },
    {
     "data": {
      "image/png": "[encoded data removed]",
      "text/plain": [
       "<Figure size 640x480 with 1 Axes>"
      ]
     },
     "metadata": {},
     "output_type": "display_data"
    }
   ],
   "source": [
    "from matplotlib import pyplot as plt\n",
    "\n",
    "\n",
    "print(len(trainset))\n",
    "print(trainset[0][0].shape, trainset[0][1])\n",
    "plt.imshow(trainset[0][0][0], cmap='gray')"
   ]
  },
  {
   "cell_type": "markdown",
   "metadata": {
    "id": "udm8wDBsi301"
   },
   "source": [
    "첫 번째 출력결과를 통해 우리는 6만장의 손글씨 data가 있는 것을 알 수 있습니다.\n",
    "그리고 두 번째 출력결과를 통해 첫 번째 data의 shape은 (1, 28, 28)이고 5라는 숫자를 쓴 사진이라는 것을 알 수 있습니다.\n",
    "마지막으로 `plt.imshow`를 통해 visualize 했을 때 5라는 숫자가 나오는 것을 알 수 있습니다.\n",
    "\n",
    "다음은 SGD를 위해 dataset을 여러 개의 batch로 나누는 과정을 PyTorch로 구현한 모습입니다."
   ]
  },
  {
   "cell_type": "code",
   "execution_count": 8,
   "metadata": {
    "id": "UxKu3kA2i5WH"
   },
   "outputs": [],
   "source": [
    "batch_size = 64\n",
    "\n",
    "trainloader = torch.utils.data.DataLoader(\n",
    "    trainset,\n",
    "    batch_size=batch_size,\n",
    "    shuffle=True\n",
    ")"
   ]
  },
  {
   "cell_type": "markdown",
   "metadata": {
    "id": "z4Qyrm4WlzWt"
   },
   "source": [
    "PyTorch에서는 `DataLoader`가 dataset을 인자로 받아 batch로 나눠줍니다.\n",
    "부가적으로 `batch_size`라는 인자를 통해 batch size를 받고 있으며, `shuffle`이라는 인자를 통해 data들을 섞을지 결정해줍니다.\n",
    "우리는 SGD가 완전 랜덤으로 batch를 구성해야 잘 동작하는 것을 알고 있기 때문에 `shuffle`에 `True`를 넘겨주고 있습니다.\n",
    "\n",
    "다음은 첫 번째 batch를 출력한 모습입니다."
   ]
  },
  {
   "cell_type": "code",
   "execution_count": 10,
   "metadata": {
    "colab": {
     "base_uri": "https://localhost:8080/"
    },
    "id": "_Hd7XxyAvVNz",
    "outputId": "185acb61-2ed7-4110-b325-c0e016ca60b0"
   },
   "outputs": [
    {
     "name": "stdout",
     "output_type": "stream",
     "text": [
      "torch.Size([64, 1, 28, 28]) torch.Size([64])\n"
     ]
    }
   ],
   "source": [
    "dataiter = iter(trainloader)\n",
    "images, labels = next(dataiter)\n",
    "print(images.shape, labels.shape)"
   ]
  },
  {
   "cell_type": "markdown",
   "metadata": {
    "id": "h0ZY5mDimRUK"
   },
   "source": [
    "`images`는 첫 번째 batch의 image들이고 `labels`는 첫 번째 batch의 label들입니다.\n",
    "위에서 batch size를 64로 설정했기 때문에 총 64개의 image와 label들이 있어야 합니다.\n",
    "실제 shape 출력 결과를 보면 그렇다는 것을 알 수 있습니다.\n",
    "\n",
    "다음은 (n, 1, 28, 28) shape의 image를 입력받아 0~9 사이의 정수 하나를 출력하는 3-layer MLP를 구현합니다."
   ]
  },
  {
   "cell_type": "code",
   "execution_count": 12,
   "metadata": {
    "id": "OLOA-ZGTuVVG"
   },
   "outputs": [],
   "source": [
    "from torch import nn\n",
    "\n",
    "\n",
    "class Model(nn.Module):\n",
    "  def __init__(self, input_dim, n_dim):\n",
    "    super().__init__()\n",
    "\n",
    "    self.layer1 = nn.Linear(input_dim, n_dim)\n",
    "    self.layer2 = nn.Linear(n_dim, n_dim)\n",
    "    self.layer3 = nn.Linear(n_dim, 1)\n",
    "\n",
    "    self.act = nn.ReLU()\n",
    "\n",
    "  def forward(self, x):\n",
    "    x = torch.flatten(x, start_dim=1)\n",
    "    x = self.act(self.layer1(x))\n",
    "    x = self.act(self.layer2(x))\n",
    "    x = self.act(self.layer3(x))\n",
    "\n",
    "    return x\n",
    "\n",
    "\n",
    "model = Model(28 * 28 * 1, 1024)"
   ]
  },
  {
   "cell_type": "markdown",
   "metadata": {
    "id": "tag1rNcwmnAr"
   },
   "source": [
    "이전의 2-layer MLP와 유사한 형태임을 알 수 있습니다.\n",
    "여기서 특이사항은 `forward`의 첫 번째 줄에 `torch.flatten`을 사용한다는 것입니다.\n",
    "`Linear`는 이전에도 봤다시피 (n, d) 형태의 shape을 입력받습니다.\n",
    "이미지는 (n, 1, 28, 28)이기 때문에 (n, 1 * 28 * 28)로 shape을 변환해야 선형 함수에 입력으로 주어줄 수 있게 됩니다.\n",
    "이 역할을 수행하는 것이 바로 `torch.flatten`입니다.\n",
    "우리는 첫 번째 shape인 n을 보존할 것이기 때문에 flatten할 차원은 `start_dim=1`로 넘겨주게 됩니다.\n",
    "\n",
    "다음은 gradient descent를 수행해줄 optimizer를 구현하는 모습입니다."
   ]
  },
  {
   "cell_type": "code",
   "execution_count": 21,
   "metadata": {
    "id": "ypS0TcOlvBhZ"
   },
   "outputs": [],
   "source": [
    "from torch.optim import SGD\n",
    "\n",
    "lr = 0.001\n",
    "model = model.to(device)\n",
    "\n",
    "optimizer = SGD(model.parameters(), lr=lr)"
   ]
  },
  {
   "cell_type": "markdown",
   "metadata": {
    "id": "5PooeOKMnRfZ"
   },
   "source": [
    "이전 코드와 거의 똑같습니다. 다른 점은 `model.to('cuda')` 코드를 통해 우리가 구현한 model을 GPU로 옮긴 것입니다.\n",
    "MNIST 부터는 모델과 data가 커지면서 훨씬 많은 행렬 연산이 이루어지기 때문에 GPU를 활용하는 것이 빠릅니다.\n",
    "\n",
    "다음은 model을 MNIST에 학습하는 코드입니다."
   ]
  },
  {
   "cell_type": "code",
   "execution_count": 23,
   "metadata": {
    "colab": {
     "base_uri": "https://localhost:8080/"
    },
    "id": "TryX1hewvNiB",
    "outputId": "4e4a9282-d49a-40ff-c26c-d00fb7c0af79"
   },
   "outputs": [
    {
     "name": "stdout",
     "output_type": "stream",
     "text": [
      "Epoch   0 | Loss: 4659.858090519905\n",
      "Epoch   1 | Loss: 2534.6023775339127\n",
      "Epoch   2 | Loss: 1812.3713654875755\n",
      "Epoch   3 | Loss: 1418.6147891879082\n",
      "Epoch   4 | Loss: 1193.7832472324371\n",
      "Epoch   5 | Loss: 1049.3164439797401\n",
      "Epoch   6 | Loss: 951.9633068144321\n",
      "Epoch   7 | Loss: 876.3018995821476\n",
      "Epoch   8 | Loss: 815.9960758388042\n",
      "Epoch   9 | Loss: 766.9864110201597\n",
      "Epoch  10 | Loss: 725.7521525770426\n",
      "Epoch  11 | Loss: 692.292989641428\n",
      "Epoch  12 | Loss: 658.6355227380991\n",
      "Epoch  13 | Loss: 631.4120102077723\n",
      "Epoch  14 | Loss: 601.9203294068575\n",
      "Epoch  15 | Loss: 579.0089441537857\n",
      "Epoch  16 | Loss: 558.7535927444696\n",
      "Epoch  17 | Loss: 537.3455259501934\n",
      "Epoch  18 | Loss: 518.9611375778913\n",
      "Epoch  19 | Loss: 501.896902307868\n",
      "Epoch  20 | Loss: 484.55448603630066\n",
      "Epoch  21 | Loss: 468.5281835049391\n",
      "Epoch  22 | Loss: 454.23972699791193\n",
      "Epoch  23 | Loss: 442.38621631264687\n",
      "Epoch  24 | Loss: 430.69446700811386\n",
      "Epoch  25 | Loss: 417.9530024006963\n",
      "Epoch  26 | Loss: 405.8313177973032\n",
      "Epoch  27 | Loss: 392.79700814187527\n",
      "Epoch  28 | Loss: 383.9787357673049\n",
      "Epoch  29 | Loss: 376.51493755728006\n",
      "Epoch  30 | Loss: 363.90326015651226\n",
      "Epoch  31 | Loss: 356.11305560171604\n",
      "Epoch  32 | Loss: 345.04356714338064\n",
      "Epoch  33 | Loss: 339.5233502089977\n",
      "Epoch  34 | Loss: 327.43813490122557\n",
      "Epoch  35 | Loss: 322.47369235754013\n",
      "Epoch  36 | Loss: 318.731765627861\n",
      "Epoch  37 | Loss: 312.50496999174356\n",
      "Epoch  38 | Loss: 301.45777709782124\n",
      "Epoch  39 | Loss: 298.78769686818123\n",
      "Epoch  40 | Loss: 288.6504453122616\n",
      "Epoch  41 | Loss: 280.77815775573254\n",
      "Epoch  42 | Loss: 279.4041561335325\n",
      "Epoch  43 | Loss: 271.1084840372205\n",
      "Epoch  44 | Loss: 266.1523785740137\n",
      "Epoch  45 | Loss: 257.5204152613878\n",
      "Epoch  46 | Loss: 260.2499450966716\n",
      "Epoch  47 | Loss: 254.97887054085732\n",
      "Epoch  48 | Loss: 242.87499438226223\n",
      "Epoch  49 | Loss: 240.59455095231533\n",
      "Epoch  50 | Loss: 233.69673059880733\n",
      "Epoch  51 | Loss: 236.9438999965787\n",
      "Epoch  52 | Loss: 226.9859182573855\n",
      "Epoch  53 | Loss: 222.70789706707\n",
      "Epoch  54 | Loss: 218.8289481177926\n",
      "Epoch  55 | Loss: 215.68973264098167\n",
      "Epoch  56 | Loss: 216.96124485135078\n",
      "Epoch  57 | Loss: 201.6501860320568\n",
      "Epoch  58 | Loss: 208.44400626793504\n",
      "Epoch  59 | Loss: 205.4180895164609\n",
      "Epoch  60 | Loss: 202.3615215420723\n",
      "Epoch  61 | Loss: 190.74869526177645\n",
      "Epoch  62 | Loss: 191.2664132490754\n",
      "Epoch  63 | Loss: 187.4343647286296\n",
      "Epoch  64 | Loss: 188.05533401668072\n",
      "Epoch  65 | Loss: 182.0825365036726\n",
      "Epoch  66 | Loss: 178.46205772832036\n",
      "Epoch  67 | Loss: 171.14611219987273\n",
      "Epoch  68 | Loss: 167.93238674849272\n",
      "Epoch  69 | Loss: 164.91034680977464\n",
      "Epoch  70 | Loss: 165.72014267370105\n",
      "Epoch  71 | Loss: 158.94320918619633\n",
      "Epoch  72 | Loss: 164.7986310645938\n",
      "Epoch  73 | Loss: 165.51510713994503\n",
      "Epoch  74 | Loss: 159.81433667242527\n",
      "Epoch  75 | Loss: 153.1519063040614\n",
      "Epoch  76 | Loss: 148.70043901726604\n",
      "Epoch  77 | Loss: 154.63829798996449\n",
      "Epoch  78 | Loss: 146.92786239087582\n",
      "Epoch  79 | Loss: 142.74991299957037\n",
      "Epoch  80 | Loss: 141.15008363127708\n",
      "Epoch  81 | Loss: 138.48459266126156\n",
      "Epoch  82 | Loss: 131.4942677281797\n",
      "Epoch  83 | Loss: 139.50139424577355\n",
      "Epoch  84 | Loss: 137.72258430346847\n",
      "Epoch  85 | Loss: 133.73562363907695\n",
      "Epoch  86 | Loss: 128.3329716771841\n",
      "Epoch  87 | Loss: 130.73758712783456\n",
      "Epoch  88 | Loss: 133.29750762879848\n",
      "Epoch  89 | Loss: 122.85048278421164\n",
      "Epoch  90 | Loss: 116.68276128545403\n",
      "Epoch  91 | Loss: 120.70067467540503\n",
      "Epoch  92 | Loss: 122.84776180237532\n",
      "Epoch  93 | Loss: 115.8881918489933\n",
      "Epoch  94 | Loss: 122.64914744719863\n",
      "Epoch  95 | Loss: 113.16482773795724\n",
      "Epoch  96 | Loss: 119.13148241490126\n",
      "Epoch  97 | Loss: 109.00922739878297\n",
      "Epoch  98 | Loss: 107.88048860803246\n",
      "Epoch  99 | Loss: 108.79840876162052\n"
     ]
    }
   ],
   "source": [
    "n_epochs = 100\n",
    "\n",
    "for epoch in range(n_epochs):\n",
    "  total_loss = 0.\n",
    "  for data in trainloader:\n",
    "    model.zero_grad()\n",
    "    inputs, labels = data\n",
    "    inputs, labels = inputs.to(device), labels.to(device)\n",
    "\n",
    "    preds = model(inputs)\n",
    "    loss = (preds[:, 0] - labels).pow(2).mean()\n",
    "    loss.backward()\n",
    "    optimizer.step()\n",
    "\n",
    "    total_loss += loss.item()\n",
    "\n",
    "  print(f\"Epoch {epoch:3d} | Loss: {total_loss}\")"
   ]
  },
  {
   "cell_type": "markdown",
   "metadata": {
    "id": "YRDcptrqniX7"
   },
   "source": [
    "출력 결과를 보면 잘 수렴하는 것을 볼 수 있습니다.\n",
    "이전 구현과 다른 점은 다음 두 가지입니다.\n",
    "- `for data in trainloader`를 통해 batch들을 iterate하면서 model을 학습합니다.\n",
    "- `inputs, labels = inputs.to('cuda'), labels.to('cuda')`를 통해 model의 입력으로 들어가는 tensor들을 GPU로 보냅니다.\n",
    "\n",
    "마지막으로 첫 번째 data에 대한 예측 결과를 살펴봅시다."
   ]
  },
  {
   "cell_type": "code",
   "execution_count": null,
   "metadata": {
    "colab": {
     "base_uri": "https://localhost:8080/"
    },
    "id": "Zct0ssSKwjt1",
    "outputId": "4a8d7062-1a43-4522-895e-cfebb9c02cdb"
   },
   "outputs": [
    {
     "name": "stdout",
     "output_type": "stream",
     "text": [
      "tensor([[4.6796]], device='cuda:0', grad_fn=<ReluBackward0>)\n",
      "5\n"
     ]
    }
   ],
   "source": [
    "idx = 0\n",
    "\n",
    "x = trainset[idx][0][None]  # (1, 1, 28, 28)\n",
    "x = x.to(device)\n",
    "\n",
    "print(model(x))\n",
    "print(trainset[idx][1])"
   ]
  },
  {
   "cell_type": "markdown",
   "metadata": {
    "id": "qzgSOrMsoZ2z"
   },
   "source": [
    "여기서 idx를 조정하여 다른 data에 대한 출력 결과도 볼 수 있습니다.\n",
    "예측 결과를 보시면 아직 성능이 그렇게 좋지 않은 것을 알 수 있습니다."
   ]
  },
  {
   "cell_type": "code",
   "execution_count": null,
   "metadata": {
    "id": "d6M4SpWQoML9"
   },
   "outputs": [],
   "source": []
  }
 ],
 "metadata": {
  "accelerator": "GPU",
  "colab": {
   "gpuType": "T4",
   "provenance": []
  },
  "kernelspec": {
   "display_name": "Python 3 (ipykernel)",
   "language": "python",
   "name": "python3"
  },
  "language_info": {
   "codemirror_mode": {
    "name": "ipython",
    "version": 3
   },
   "file_extension": ".py",
   "mimetype": "text/x-python",
   "name": "python",
   "nbconvert_exporter": "python",
   "pygments_lexer": "ipython3",
   "version": "3.12.4"
  }
 },
 "nbformat": 4,
 "nbformat_minor": 4
}
